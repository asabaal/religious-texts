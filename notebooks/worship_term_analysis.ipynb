{
 "cells": [
  {
   "cell_type": "markdown",
   "metadata": {},
   "source": [
    "# Worship Term Analysis for Theological Debates\n",
    "\n",
    "This notebook demonstrates how to use the worship language analysis modules in the `religious-texts` library to analyze worship terminology in theological debates, particularly focusing on terms like \"proskuneo\" vs. \"latreo\" which were discussed in the David Wood vs. Alex O'Connor debate."
   ]
  },
  {
   "cell_type": "markdown",
   "metadata": {},
   "source": [
    "## Setup and Imports"
   ]
  },
  {
   "cell_type": "code",
   "execution_count": null,
   "metadata": {},
   "outputs": [],
   "source": [
    "import os\n",
    "import sys\n",
    "import pandas as pd\n",
    "import numpy as np\n",
    "import matplotlib.pyplot as plt\n",
    "import seaborn as sns\n",
    "\n",
    "# Add the parent directory to the path so we can import the religious_texts module\n",
    "sys.path.append('..')\n",
    "\n",
    "# Import modules\n",
    "from religious_texts.data_acquisition import loaders\n",
    "from religious_texts.visualization import heatmaps, distributions\n",
    "from religious_texts.theological_analysis import worship\n",
    "from religious_texts.specialized import worship_analysis\n",
    "from religious_texts.specialized import debate_worship_analysis\n",
    "\n",
    "# Set plot style\n",
    "plt.style.use('ggplot')\n",
    "sns.set_context('notebook')"
   ]
  },
  {
   "cell_type": "markdown",
   "metadata": {},
   "source": [
    "## Loading Biblical Text Data\n",
    "\n",
    "First, we'll load a Bible text file. The library supports various formats, but for this example, we'll use the King James Version (KJV)."
   ]
  },
  {
   "cell_type": "code",
   "execution_count": null,
   "metadata": {},
   "outputs": [],
   "source": [
    "# Path to the Bible text file - adjust as needed\n",
    "kjv_path = '../data/kjv.txt'\n",
    "\n",
    "# Load the Bible text\n",
    "bible = loaders.load_text(kjv_path)\n",
    "\n",
    "# Print a sample to verify loading worked correctly\n",
    "print(f\"Loaded {len(bible)} books\")\n",
    "print(\"Sample from John 3:16:\")\n",
    "print(bible.get('John', {}).get(3, {}).get(16, 'Verse not found'))"
   ]
  },
  {
   "cell_type": "markdown",
   "metadata": {},
   "source": [
    "## Basic Worship Language Analysis\n",
    "\n",
    "Let's start with a basic analysis of worship language distribution across biblical books."
   ]
  },
  {
   "cell_type": "code",
   "execution_count": null,
   "metadata": {},
   "outputs": [],
   "source": [
    "# Analyze worship language by book\n",
    "worship_by_book = worship.worship_language_analysis(bible, unit='book')\n",
    "\n",
    "# Display the top 10 books with highest worship density\n",
    "worship_by_book.head(10)[['book', 'total_worship_terms', 'total_words', 'worship_density']]"
   ]
  },
  {
   "cell_type": "markdown",
   "metadata": {},
   "source": [
    "## Visualizing Worship Language Distribution\n",
    "\n",
    "Now let's create a visualization of the worship language distribution."
   ]
  },
  {
   "cell_type": "code",
   "execution_count": null,
   "metadata": {},
   "outputs": [],
   "source": [
    "# Prepare data for visualization\n",
    "top_books = worship_by_book.head(15)[['book', 'worship_density']]\n",
    "\n",
    "# Create a bar chart\n",
    "plt.figure(figsize=(12, 8))\n",
    "sns.barplot(x='worship_density', y='book', data=top_books)\n",
    "plt.title('Top 15 Biblical Books by Worship Language Density')\n",
    "plt.xlabel('Worship Terms per 1000 Words')\n",
    "plt.ylabel('Book')\n",
    "plt.tight_layout()\n",
    "plt.show()"
   ]
  },
  {
   "cell_type": "markdown",
   "metadata": {},
   "source": [
    "## Analyzing Specific Worship Terms: Proskuneo vs. Latreo\n",
    "\n",
    "Now let's focus on the specific worship terms that are central to theological debates, particularly \"proskuneo\" (often translated as \"worship\") and \"latreo\" (often translated as \"serve\")."
   ]
  },
  {
   "cell_type": "code",
   "execution_count": null,
   "metadata": {},
   "outputs": [],
   "source": [
    "# Extract proskuneo terms from WORSHIP_TERMS dictionary\n",
    "proskuneo_terms = worship_analysis.WORSHIP_TERMS['proskuneo']\n",
    "latreo_terms = worship_analysis.WORSHIP_TERMS['latreo']\n",
    "\n",
    "# Print the terms\n",
    "print(\"Proskuneo (worship) terms:\")\n",
    "print(proskuneo_terms)\n",
    "print(\"\\nLatreo (service) terms:\")\n",
    "print(latreo_terms)"
   ]
  },
  {
   "cell_type": "code",
   "execution_count": null,
   "metadata": {},
   "outputs": [],
   "source": [
    "# Analyze distribution of these specific terms\n",
    "term_distribution = worship.worship_term_distribution(\n",
    "    bible, \n",
    "    terms=proskuneo_terms + latreo_terms\n",
    ")\n",
    "\n",
    "# Display top books with these terms\n",
    "term_distribution.head(10)[['book', 'total_term_count', 'term_density']]"
   ]
  },
  {
   "cell_type": "markdown",
   "metadata": {},
   "source": [
    "## Specialized Analysis of Proskuneo vs. Latreo\n",
    "\n",
    "Now let's use the specialized worship analysis module to compare proskuneo and latreo usage in detail."
   ]
  },
  {
   "cell_type": "code",
   "execution_count": null,
   "metadata": {},
   "outputs": [],
   "source": [
    "# Define New Testament books for analysis\n",
    "nt_books = [\n",
    "    \"Matthew\", \"Mark\", \"Luke\", \"John\", \"Acts\", \"Romans\", \"1 Corinthians\", \n",
    "    \"2 Corinthians\", \"Galatians\", \"Ephesians\", \"Philippians\", \"Colossians\", \n",
    "    \"1 Thessalonians\", \"2 Thessalonians\", \"1 Timothy\", \"2 Timothy\", \"Titus\", \n",
    "    \"Philemon\", \"Hebrews\", \"James\", \"1 Peter\", \"2 Peter\", \"1 John\", \"2 John\", \n",
    "    \"3 John\", \"Jude\", \"Revelation\"\n",
    "]\n",
    "\n",
    "# Compare proskuneo vs. latreo in the New Testament\n",
    "comparison = worship_analysis.compare_proskuneo_latreo(bible, books=nt_books)\n",
    "\n",
    "# Display summary of the comparison\n",
    "print(f\"Total proskuneo instances: {comparison['proskuneo_instances']}\")\n",
    "print(f\"Total latreo instances: {comparison['latreo_instances']}\")\n",
    "print(\"\\nProskuneo recipients:\")\n",
    "print(comparison['proskuneo_recipients']['counts'])\n",
    "print(\"\\nLatreo recipients:\")\n",
    "print(comparison['latreo_recipients']['counts'])"
   ]
  },
  {
   "cell_type": "markdown",
   "metadata": {},
   "source": [
    "## Visualizing Recipient Distribution\n",
    "\n",
    "Let's visualize the distribution of recipients for both worship terms."
   ]
  },
  {
   "cell_type": "code",
   "execution_count": null,
   "metadata": {},
   "outputs": [],
   "source": [
    "# Extract recipient counts\n",
    "proskuneo_recipients = comparison['proskuneo_recipients']['counts']\n",
    "latreo_recipients = comparison['latreo_recipients']['counts']\n",
    "\n",
    "# Combine into DataFrame for plotting\n",
    "recipient_df = pd.DataFrame({\n",
    "    'Proskuneo': pd.Series(proskuneo_recipients),\n",
    "    'Latreo': pd.Series(latreo_recipients)\n",
    "}).fillna(0).astype(int)\n",
    "\n",
    "# Create grouped bar chart\n",
    "recipient_df.plot(kind='bar', figsize=(10, 6))\n",
    "plt.title('Recipient Distribution: Proskuneo vs. Latreo')\n",
    "plt.xlabel('Recipient Type')\n",
    "plt.ylabel('Count')\n",
    "plt.xticks(rotation=45)\n",
    "plt.tight_layout()\n",
    "plt.show()"
   ]
  },
  {
   "cell_type": "markdown",
   "metadata": {},
   "source": [
    "## Identifying Instances of Jesus Worship\n",
    "\n",
    "One key aspect of the theological debate is whether Jesus receives worship (proskuneo) in a way that indicates his divinity."
   ]
  },
  {
   "cell_type": "code",
   "execution_count": null,
   "metadata": {},
   "outputs": [],
   "source": [
    "# Analyze instances where Jesus receives proskuneo\n",
    "jesus_worship = worship_analysis.analyze_worship_recipients(\n",
    "    bible,\n",
    "    worship_categories=['proskuneo'],\n",
    "    recipient='jesus_terms',\n",
    "    books=nt_books\n",
    ")\n",
    "\n",
    "# Display the instances\n",
    "if not jesus_worship.empty:\n",
    "    jesus_worship[['reference', 'text', 'worship_term', 'recipient_term']].head(10)\n",
    "else:\n",
    "    print(\"No instances found where Jesus receives proskuneo.\")"
   ]
  },
  {
   "cell_type": "markdown",
   "metadata": {},
   "source": [
    "## Analyzing Specific Debate Claims\n",
    "\n",
    "Now let's use the debate worship analysis module to analyze specific claims made in the David Wood vs. Alex O'Connor debate."
   ]
  },
  {
   "cell_type": "code",
   "execution_count": null,
   "metadata": {},
   "outputs": [],
   "source": [
    "# List available debate claims\n",
    "print(\"Available debate claims for analysis:\")\n",
    "for key, claim in debate_worship_analysis.DEBATE_CLAIMS.items():\n",
    "    print(f\"- {key}: {claim['claim']}\")"
   ]
  },
  {
   "cell_type": "code",
   "execution_count": null,
   "metadata": {},
   "outputs": [],
   "source": [
    "# Analyze the proskuneo exclusivity claim\n",
    "exclusivity_analysis = debate_worship_analysis.analyze_debate_claim(\n",
    "    bible, \n",
    "    \"proskuneo_exclusivity\"\n",
    ")\n",
    "\n",
    "# Display the claim analysis\n",
    "print(f\"Claim: {exclusivity_analysis['claim']}\")\n",
    "print(f\"Counter: {exclusivity_analysis['counter']}\")\n",
    "print(f\"\\nKey passages analyzed: {exclusivity_analysis['total_passages']}\")\n",
    "print(\"\\nSupport statistics:\")\n",
    "print(exclusivity_analysis['support_statistics'])"
   ]
  },
  {
   "cell_type": "markdown",
   "metadata": {},
   "source": [
    "## Examining Specific Passages in Context\n",
    "\n",
    "Let's analyze specific passages that are often cited in debates about worship terminology."
   ]
  },
  {
   "cell_type": "code",
   "execution_count": null,
   "metadata": {},
   "outputs": [],
   "source": [
    "# Define key passages from the debate\n",
    "key_passages = [\n",
    "    \"Matthew 2:11\",  # Magi worship infant Jesus\n",
    "    \"Matthew 4:10\",  # \"Worship the Lord your God and serve him only\"\n",
    "    \"Matthew 28:17\", # Disciples worship resurrected Jesus\n",
    "    \"John 9:38\",     # Healed blind man worships Jesus\n",
    "    \"Hebrews 1:6\",   # Angels worship the Son\n",
    "    \"Revelation 19:10\", # Angel refuses worship\n",
    "    \"Revelation 22:8-9\" # Another angel refuses worship\n",
    "]\n",
    "\n",
    "# Analyze these passages in context\n",
    "context_analysis = debate_worship_analysis.analyze_debate_passages_context(\n",
    "    bible,\n",
    "    key_passages,\n",
    "    context_verses=2\n",
    ")\n",
    "\n",
    "# Print summary statistics\n",
    "print(f\"Total passages analyzed: {context_analysis['total_passages']}\")\n",
    "print(\"\\nWorship category counts:\")\n",
    "for category, count in context_analysis['worship_category_counts'].items():\n",
    "    print(f\"- {category}: {count}\")\n",
    "\n",
    "print(\"\\nRecipient category counts:\")\n",
    "for category, count in context_analysis['recipient_category_counts'].items():\n",
    "    print(f\"- {category}: {count}\")\n",
    "\n",
    "print(\"\\nTheological theme counts:\")\n",
    "for theme, count in context_analysis['theme_counts'].items():\n",
    "    print(f\"- {theme}: {count}\")"
   ]
  },
  {
   "cell_type": "markdown",
   "metadata": {},
   "source": [
    "## Creating an Evidence Matrix for the Debate\n",
    "\n",
    "Finally, let's create an evidence matrix that evaluates the biblical support for each debate claim."
   ]
  },
  {
   "cell_type": "code",
   "execution_count": null,
   "metadata": {},
   "outputs": [],
   "source": [
    "# Create the evidence matrix\n",
    "evidence_df = debate_worship_analysis.create_worship_evidence_matrix(bible)\n",
    "\n",
    "# Display the matrix\n",
    "evidence_df[['claim', 'evidence_category', 'support_count', 'counter_count', 'neutral_count', 'total_passages']]"
   ]
  },
  {
   "cell_type": "markdown",
   "metadata": {},
   "source": [
    "## Visualizing the Evidence Matrix\n",
    "\n",
    "Let's create a heatmap visualization of the evidence strength for each claim."
   ]
  },
  {
   "cell_type": "code",
   "execution_count": null,
   "metadata": {},
   "outputs": [],
   "source": [
    "# Create a numeric mapping of evidence categories for visualization\n",
    "evidence_map = {\n",
    "    'strong_support': 2,\n",
    "    'moderate_support': 1,\n",
    "    'neutral': 0,\n",
    "    'moderate_counter': -1,\n",
    "    'strong_counter': -2\n",
    "}\n",
    "\n",
    "# Map categories to numeric values\n",
    "evidence_df['evidence_value'] = evidence_df['evidence_category'].map(evidence_map)\n",
    "\n",
    "# Prepare data for heatmap\n",
    "heatmap_data = evidence_df.pivot_table(\n",
    "    values='evidence_value',\n",
    "    index='claim',\n",
    "    columns=['claim_key'],\n",
    "    aggfunc='first'\n",
    ")\n",
    "\n",
    "# Create the heatmap\n",
    "plt.figure(figsize=(12, 8))\n",
    "sns.heatmap(\n",
    "    heatmap_data.T, \n",
    "    cmap=sns.diverging_palette(10, 240, n=5), \n",
    "    center=0,\n",
    "    annot=True, \n",
    "    fmt=\".0f\",\n",
    "    linewidths=.5\n",
    ")\n",
    "plt.title('Evidence Matrix for Theological Debate Claims')\n",
    "plt.tight_layout()\n",
    "plt.show()"
   ]
  },
  {
   "cell_type": "markdown",
   "metadata": {},
   "source": [
    "## Comprehensive Analysis of the Wood vs. O'Connor Debate\n",
    "\n",
    "Now, let's bring everything together to analyze the specific debate claims from the Wood vs. O'Connor debate regarding worship terminology and Jesus' divinity."
   ]
  },
  {
   "cell_type": "code",
   "execution_count": null,
   "metadata": {},
   "outputs": [],
   "source": [
    "# Define the specific passages cited in the debate\n",
    "wood_passages = [\n",
    "    \"Matthew 28:17\", # Disciples worship resurrected Jesus\n",
    "    \"John 9:38\",     # Healed blind man worships Jesus\n",
    "    \"Hebrews 1:6\",   # Angels worship the Son\n",
    "    \"Matthew 4:10\"   # \"Worship the Lord your God and serve him only\"\n",
    "]\n",
    "\n",
    "oconnor_passages = [\n",
    "    \"Matthew 2:11\",  # Magi worship infant Jesus\n",
    "    \"Revelation 19:10\", # Angel refuses worship\n",
    "    \"Revelation 22:8-9\", # Another angel refuses worship\n",
    "    \"Romans 1:25\"    # Worship and serve the creature\n",
    "]\n",
    "\n",
    "# Perform comprehensive analysis of debate worship terms\n",
    "debate_analysis = debate_worship_analysis.analyze_debate_worship_terms(\n",
    "    bible,\n",
    "    proskuneo_passages=wood_passages + oconnor_passages\n",
    ")\n",
    "\n",
    "# Display the analysis results\n",
    "print(\"DEBATE ANALYSIS: PROSKUNEO VS. LATREO IN THE WOOD-O'CONNOR DEBATE\\n\")\n",
    "\n",
    "print(\"PROSKUNEO (WORSHIP) ANALYSIS:\")\n",
    "print(f\"Total passages analyzed: {debate_analysis['proskuneo_analysis']['total_passages']}\")\n",
    "print(\"Recipient distribution:\")\n",
    "for recipient, count in debate_analysis['proskuneo_analysis']['recipient_distribution'].items():\n",
    "    print(f\"- {recipient}: {count}\")\n",
    "\n",
    "print(\"\\nCOMPARISON WITH COMPLETE NEW TESTAMENT:\")\n",
    "print(f\"Total proskuneo instances in NT: {debate_analysis['comparison']['proskuneo_total']}\")\n",
    "print(f\"Total latreo instances in NT: {debate_analysis['comparison']['latreo_total']}\")\n",
    "print(f\"Instances where Jesus receives proskuneo: {debate_analysis['comparison']['proskuneo_jesus_count']}\")\n",
    "print(f\"Instances where Jesus receives latreo: {debate_analysis['comparison']['latreo_jesus_count']}\")\n",
    "\n",
    "print(\"\\nDEBATE SIGNIFICANCE:\")\n",
    "for claim, value in debate_analysis['debate_significance'].items():\n",
    "    print(f\"- {claim}: {'Supported' if value else 'Not supported'}\")"
   ]
  },
  {
   "cell_type": "markdown",
   "metadata": {},
   "source": [
    "## Conclusion\n",
    "\n",
    "This notebook has demonstrated how to use the `religious-texts` library to analyze worship terminology in biblical texts, with a specific focus on the terms discussed in the David Wood vs. Alex O'Connor debate. \n",
    "\n",
    "The analysis shows that:\n",
    "\n",
    "1. There are clear patterns in how \"proskuneo\" and \"latreo\" terms are used in biblical texts.\n",
    "2. Jesus receives \"proskuneo\" (worship) in multiple New Testament passages.\n",
    "3. The evidence for claims about the exclusivity of these terms is mixed.\n",
    "4. Contextual analysis provides important insights into how these terms are used in relation to different recipients.\n",
    "\n",
    "This type of analysis provides an objective, data-driven approach to theological debates about worship terminology and divine attribution in biblical texts."
   ]
  }
 ],
 "metadata": {
  "kernelspec": {
   "display_name": "Python 3",
   "language": "python",
   "name": "python3"
  },
  "language_info": {
   "codemirror_mode": {
    "name": "ipython",
    "version": 3
   },
   "file_extension": ".py",
   "mimetype": "text/x-python",
   "name": "python",
   "nbconvert_exporter": "python",
   "pygments_lexer": "ipython3",
   "version": "3.8.10"
  }
 },
 "nbformat": 4,
 "nbformat_minor": 4
}
